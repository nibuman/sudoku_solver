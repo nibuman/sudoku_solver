{
 "cells": [
  {
   "cell_type": "code",
   "execution_count": 10,
   "id": "eeb3aa49-2179-43e7-bac2-5d8c6eb05b4c",
   "metadata": {},
   "outputs": [],
   "source": [
    "def mygen():\n",
    "    n=1\n",
    "    while True:\n",
    "        a = yield n\n",
    "        print(f\"{a=} {n=}\")\n",
    "        n+=1\n"
   ]
  },
  {
   "cell_type": "code",
   "execution_count": 11,
   "id": "135a6c1b-d724-495e-9d55-ad955109d972",
   "metadata": {},
   "outputs": [
    {
     "data": {
      "text/plain": [
       "1"
      ]
     },
     "execution_count": 11,
     "metadata": {},
     "output_type": "execute_result"
    }
   ],
   "source": [
    "mg = mygen()\n",
    "a = next(mg)\n",
    "a"
   ]
  },
  {
   "cell_type": "code",
   "execution_count": 13,
   "id": "b03b38f5-5a1d-4ecd-b03b-8b861b565de5",
   "metadata": {},
   "outputs": [
    {
     "name": "stdout",
     "output_type": "stream",
     "text": [
      "a=None n=2\n"
     ]
    },
    {
     "data": {
      "text/plain": [
       "3"
      ]
     },
     "execution_count": 13,
     "metadata": {},
     "output_type": "execute_result"
    }
   ],
   "source": [
    "next(mg)"
   ]
  },
  {
   "cell_type": "code",
   "execution_count": 15,
   "id": "03591941-f527-478f-9a80-b99ae3e09757",
   "metadata": {
    "collapsed": true,
    "jupyter": {
     "outputs_hidden": true
    }
   },
   "outputs": [
    {
     "name": "stdout",
     "output_type": "stream",
     "text": [
      "a=100 n=3\n"
     ]
    },
    {
     "data": {
      "text/plain": [
       "4"
      ]
     },
     "execution_count": 15,
     "metadata": {},
     "output_type": "execute_result"
    }
   ],
   "source": [
    "mg.send(100)"
   ]
  },
  {
   "cell_type": "code",
   "execution_count": 17,
   "id": "cbaa4d42-f586-4a57-ba1d-73f7d1ae58df",
   "metadata": {
    "jupyter": {
     "source_hidden": true
    }
   },
   "outputs": [
    {
     "ename": "StopIteration",
     "evalue": "",
     "output_type": "error",
     "traceback": [
      "\u001b[0;31m---------------------------------------------------------------------------\u001b[0m",
      "\u001b[0;31mStopIteration\u001b[0m                             Traceback (most recent call last)",
      "Cell \u001b[0;32mIn[17], line 2\u001b[0m\n\u001b[1;32m      1\u001b[0m mg\u001b[38;5;241m.\u001b[39mclose()\n\u001b[0;32m----> 2\u001b[0m \u001b[43mmg\u001b[49m\u001b[38;5;241;43m.\u001b[39;49m\u001b[43msend\u001b[49m\u001b[43m(\u001b[49m\u001b[38;5;241;43m100\u001b[39;49m\u001b[43m)\u001b[49m\n",
      "\u001b[0;31mStopIteration\u001b[0m: "
     ]
    }
   ],
   "source": [
    "mg.close()\n",
    "mg.send(100)b"
   ]
  },
  {
   "cell_type": "code",
   "execution_count": 28,
   "id": "4f8e2699-d549-4a4d-a911-71387497de54",
   "metadata": {},
   "outputs": [
    {
     "name": "stdout",
     "output_type": "stream",
     "text": [
      "9\n"
     ]
    }
   ],
   "source": [
    "a = [0]*45 +[9] + [0]*34 + [8]\n",
    "if any(c:=x for x in a):\n",
    "    print(c)\n",
    "\n"
   ]
  },
  {
   "cell_type": "code",
   "execution_count": 164,
   "id": "cb4f6202-0563-4837-ac45-21cd149f86ab",
   "metadata": {},
   "outputs": [
    {
     "data": {
      "text/plain": [
       "(0, 3, 3)"
      ]
     },
     "execution_count": 164,
     "metadata": {},
     "output_type": "execute_result"
    }
   ],
   "source": [
    "from itertools import chain, pairwise, starmap\n",
    "board_indices = range(81)\n",
    "def row_gen():\n",
    "    for pos in range(81):\n",
    "        row_start = (pos // 9) * 9\n",
    "        row_end = row_start+9\n",
    "        yield tuple(range(row_start, row_end))\n",
    "\n",
    "def col_gen():\n",
    "    for pos in range(81):\n",
    "        col = pos % 9\n",
    "        yield tuple(col+n for n in range(0,81,9))\n",
    "\n",
    "def sqr_gen():\n",
    "    for pos in range(81):\n",
    "        r = (pos // 27) * 27\n",
    "        c = ((pos // 3) % 3 ) * 3\n",
    "        offsets = (0, 1, 2, 9, 10, 11, 18, 19, 20)\n",
    "        yield tuple(r+c+o for o in offsets)\n",
    "        \n",
    "tuple(zip(row_gen(), col_gen(), sqr_gen()))[27]"
   ]
  },
  {
   "cell_type": "code",
   "execution_count": 141,
   "id": "25fdcfc4-9297-4654-bff6-6cc74979bc70",
   "metadata": {},
   "outputs": [
    {
     "data": {
      "text/plain": [
       "[(1, 2, 3, 'A', 'B', 'C'), (4, 5, 6, 'D', 'E', 'F')]"
      ]
     },
     "execution_count": 141,
     "metadata": {},
     "output_type": "execute_result"
    }
   ],
   "source": [
    "a =((1,2,3),(4,5,6))\n",
    "b = ((\"A\", \"B\", \"C\"), (\"D\", \"E\", \"F\"))\n",
    "[(*r, *c) for r, c in zip(a, b)]\n"
   ]
  },
  {
   "cell_type": "code",
   "execution_count": 138,
   "id": "281b6188-965b-46a0-899e-9b504e58e13f",
   "metadata": {},
   "outputs": [
    {
     "data": {
      "text/plain": [
       "[(1, 4, 7), (2, 5, 8), (3, 6, 9)]"
      ]
     },
     "execution_count": 138,
     "metadata": {},
     "output_type": "execute_result"
    }
   ],
   "source": [
    "[(r,c,s) for r,c,s in zip([1,2,3], [4,5,6], [7,8,9])]"
   ]
  },
  {
   "cell_type": "code",
   "execution_count": 158,
   "id": "8a89be15-85bd-40dd-b055-f559f8e264b0",
   "metadata": {},
   "outputs": [
    {
     "data": {
      "text/plain": [
       "['Alice', 'Erin']"
      ]
     },
     "execution_count": 158,
     "metadata": {},
     "output_type": "execute_result"
    }
   ],
   "source": [
    "names = [\"Alice\", \"Bob\", \"Christy\", \"Erin\"]\n",
    "vowels = \"AEIOU\"\n",
    "[name\n",
    " for name in names\n",
    " if name[0] in vowels\n",
    "]"
   ]
  },
  {
   "cell_type": "code",
   "execution_count": 163,
   "id": "5b6e855e-6059-46b7-af30-c1d4fec5b2f9",
   "metadata": {},
   "outputs": [
    {
     "data": {
      "text/plain": [
       "[[1, 2], [10, 20]]"
      ]
     },
     "execution_count": 163,
     "metadata": {},
     "output_type": "execute_result"
    }
   ],
   "source": [
    "s=\"1 2\\n10 20\"\n",
    "[[int(n) for n in row.split()] for row in s.split(\"\\n\")]"
   ]
  },
  {
   "cell_type": "code",
   "execution_count": 166,
   "id": "b88a22cd-a050-4463-b696-b047a1e30e08",
   "metadata": {},
   "outputs": [],
   "source": [
    "import itertools\n",
    "import collections"
   ]
  },
  {
   "cell_type": "code",
   "execution_count": 170,
   "id": "24046c5f-eecd-45ec-842e-9ba1e482c07c",
   "metadata": {},
   "outputs": [
    {
     "data": {
      "text/plain": [
       "Counter({'1': 2, '3': 1, '2': 1, '4': 1})"
      ]
     },
     "execution_count": 170,
     "metadata": {},
     "output_type": "execute_result"
    }
   ],
   "source": [
    "\n",
    "a = {\"1\", \"3\", \"2\"}\n",
    "b = {\"1\", \"4\"}\n",
    "c = collections.Counter(itertools.chain(a, b))\n",
    "c"
   ]
  },
  {
   "cell_type": "code",
   "execution_count": 174,
   "id": "ce0e1a99-5745-4c7d-9e9f-84328d1c0a5a",
   "metadata": {},
   "outputs": [
    {
     "data": {
      "text/plain": [
       "22"
      ]
     },
     "execution_count": 174,
     "metadata": {},
     "output_type": "execute_result"
    }
   ],
   "source": [
    "d = {1: {2,22,534}, 22: {4,5}}\n",
    "min(d, key=lambda k: len(d[k]))"
   ]
  }
 ],
 "metadata": {
  "kernelspec": {
   "display_name": "Python 3 (ipykernel)",
   "language": "python",
   "name": "python3"
  },
  "language_info": {
   "codemirror_mode": {
    "name": "ipython",
    "version": 3
   },
   "file_extension": ".py",
   "mimetype": "text/x-python",
   "name": "python",
   "nbconvert_exporter": "python",
   "pygments_lexer": "ipython3",
   "version": "3.12.4"
  }
 },
 "nbformat": 4,
 "nbformat_minor": 5
}
