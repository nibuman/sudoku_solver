{
 "cells": [
  {
   "cell_type": "markdown",
   "metadata": {},
   "source": [
    "## Looking at how fast the sudoku solver works\n"
   ]
  },
  {
   "cell_type": "code",
   "execution_count": 5,
   "metadata": {},
   "outputs": [
    {
     "data": {
      "text/html": [
       "<div>\n",
       "<style scoped>\n",
       "    .dataframe tbody tr th:only-of-type {\n",
       "        vertical-align: middle;\n",
       "    }\n",
       "\n",
       "    .dataframe tbody tr th {\n",
       "        vertical-align: top;\n",
       "    }\n",
       "\n",
       "    .dataframe thead th {\n",
       "        text-align: right;\n",
       "    }\n",
       "</style>\n",
       "<table border=\"1\" class=\"dataframe\">\n",
       "  <thead>\n",
       "    <tr style=\"text-align: right;\">\n",
       "      <th></th>\n",
       "      <th>date</th>\n",
       "      <th>sudoku</th>\n",
       "      <th>time</th>\n",
       "      <th>difficulty</th>\n",
       "      <th>alg2</th>\n",
       "      <th>version</th>\n",
       "    </tr>\n",
       "  </thead>\n",
       "  <tbody>\n",
       "    <tr>\n",
       "      <th>0</th>\n",
       "      <td>2022-07-30 00:33:22.214405</td>\n",
       "      <td>\"003020600900305001001806400008102900700000008...</td>\n",
       "      <td>0.00232</td>\n",
       "      <td>1</td>\n",
       "      <td>False</td>\n",
       "      <td>v2.11</td>\n",
       "    </tr>\n",
       "    <tr>\n",
       "      <th>1</th>\n",
       "      <td>2022-07-30 00:33:22.217619</td>\n",
       "      <td>\"003020600900305001001806400008102900700000008...</td>\n",
       "      <td>0.00216</td>\n",
       "      <td>1</td>\n",
       "      <td>True</td>\n",
       "      <td>v2.11</td>\n",
       "    </tr>\n",
       "    <tr>\n",
       "      <th>2</th>\n",
       "      <td>2022-07-30 00:33:22.219949</td>\n",
       "      <td>\"005306078200407005000009106008002034040030010...</td>\n",
       "      <td>0.00167</td>\n",
       "      <td>1</td>\n",
       "      <td>False</td>\n",
       "      <td>v2.11</td>\n",
       "    </tr>\n",
       "    <tr>\n",
       "      <th>3</th>\n",
       "      <td>2022-07-30 00:33:22.222150</td>\n",
       "      <td>\"005306078200407005000009106008002034040030010...</td>\n",
       "      <td>0.00155</td>\n",
       "      <td>1</td>\n",
       "      <td>True</td>\n",
       "      <td>v2.11</td>\n",
       "    </tr>\n",
       "    <tr>\n",
       "      <th>4</th>\n",
       "      <td>2022-07-30 00:33:22.233287</td>\n",
       "      <td>\"069800500000000103400000020000170000080006000...</td>\n",
       "      <td>0.01052</td>\n",
       "      <td>7</td>\n",
       "      <td>False</td>\n",
       "      <td>v2.11</td>\n",
       "    </tr>\n",
       "  </tbody>\n",
       "</table>\n",
       "</div>"
      ],
      "text/plain": [
       "                         date  \\\n",
       "0  2022-07-30 00:33:22.214405   \n",
       "1  2022-07-30 00:33:22.217619   \n",
       "2  2022-07-30 00:33:22.219949   \n",
       "3  2022-07-30 00:33:22.222150   \n",
       "4  2022-07-30 00:33:22.233287   \n",
       "\n",
       "                                              sudoku     time  difficulty  \\\n",
       "0  \"003020600900305001001806400008102900700000008...  0.00232           1   \n",
       "1  \"003020600900305001001806400008102900700000008...  0.00216           1   \n",
       "2  \"005306078200407005000009106008002034040030010...  0.00167           1   \n",
       "3  \"005306078200407005000009106008002034040030010...  0.00155           1   \n",
       "4  \"069800500000000103400000020000170000080006000...  0.01052           7   \n",
       "\n",
       "    alg2 version  \n",
       "0  False   v2.11  \n",
       "1   True   v2.11  \n",
       "2  False   v2.11  \n",
       "3   True   v2.11  \n",
       "4  False   v2.11  "
      ]
     },
     "execution_count": 5,
     "metadata": {},
     "output_type": "execute_result"
    }
   ],
   "source": [
    "import pandas as pd\n",
    "import matplotlib\n",
    "import seaborn as sns\n",
    "import numpy as np\n",
    "\n",
    "df = pd.read_csv('sudoku_tst_scores.csv')\n",
    "df.head()"
   ]
  },
  {
   "cell_type": "code",
   "execution_count": 14,
   "metadata": {},
   "outputs": [
    {
     "data": {
      "text/html": [
       "<div>\n",
       "<style scoped>\n",
       "    .dataframe tbody tr th:only-of-type {\n",
       "        vertical-align: middle;\n",
       "    }\n",
       "\n",
       "    .dataframe tbody tr th {\n",
       "        vertical-align: top;\n",
       "    }\n",
       "\n",
       "    .dataframe thead th {\n",
       "        text-align: right;\n",
       "    }\n",
       "</style>\n",
       "<table border=\"1\" class=\"dataframe\">\n",
       "  <thead>\n",
       "    <tr style=\"text-align: right;\">\n",
       "      <th></th>\n",
       "      <th>date</th>\n",
       "      <th>sudoku</th>\n",
       "      <th>time</th>\n",
       "      <th>difficulty</th>\n",
       "      <th>alg2</th>\n",
       "      <th>version</th>\n",
       "    </tr>\n",
       "  </thead>\n",
       "  <tbody>\n",
       "    <tr>\n",
       "      <th>0</th>\n",
       "      <td>2022-07-30 00:33:22.214405</td>\n",
       "      <td>003020</td>\n",
       "      <td>2.32</td>\n",
       "      <td>1</td>\n",
       "      <td>False</td>\n",
       "      <td>v2.11</td>\n",
       "    </tr>\n",
       "    <tr>\n",
       "      <th>1</th>\n",
       "      <td>2022-07-30 00:33:22.217619</td>\n",
       "      <td>003020</td>\n",
       "      <td>2.16</td>\n",
       "      <td>1</td>\n",
       "      <td>True</td>\n",
       "      <td>v2.11</td>\n",
       "    </tr>\n",
       "    <tr>\n",
       "      <th>2</th>\n",
       "      <td>2022-07-30 00:33:22.219949</td>\n",
       "      <td>005306</td>\n",
       "      <td>1.67</td>\n",
       "      <td>1</td>\n",
       "      <td>False</td>\n",
       "      <td>v2.11</td>\n",
       "    </tr>\n",
       "    <tr>\n",
       "      <th>3</th>\n",
       "      <td>2022-07-30 00:33:22.222150</td>\n",
       "      <td>005306</td>\n",
       "      <td>1.55</td>\n",
       "      <td>1</td>\n",
       "      <td>True</td>\n",
       "      <td>v2.11</td>\n",
       "    </tr>\n",
       "    <tr>\n",
       "      <th>4</th>\n",
       "      <td>2022-07-30 00:33:22.233287</td>\n",
       "      <td>069800</td>\n",
       "      <td>10.52</td>\n",
       "      <td>7</td>\n",
       "      <td>False</td>\n",
       "      <td>v2.11</td>\n",
       "    </tr>\n",
       "  </tbody>\n",
       "</table>\n",
       "</div>"
      ],
      "text/plain": [
       "                        date  sudoku   time  difficulty   alg2 version\n",
       "0 2022-07-30 00:33:22.214405  003020   2.32           1  False   v2.11\n",
       "1 2022-07-30 00:33:22.217619  003020   2.16           1   True   v2.11\n",
       "2 2022-07-30 00:33:22.219949  005306   1.67           1  False   v2.11\n",
       "3 2022-07-30 00:33:22.222150  005306   1.55           1   True   v2.11\n",
       "4 2022-07-30 00:33:22.233287  069800  10.52           7  False   v2.11"
      ]
     },
     "execution_count": 14,
     "metadata": {},
     "output_type": "execute_result"
    }
   ],
   "source": [
    "df_tw = (df\n",
    "         .assign(sudoku=lambda df_: df_.sudoku.apply(lambda x: x[1:7]),\n",
    "                 time=df.time * 1000,\n",
    "                 date=pd.to_datetime(df.date)\n",
    "            )\n",
    "        )\n",
    "df_tw.head()"
   ]
  },
  {
   "cell_type": "code",
   "execution_count": 13,
   "metadata": {},
   "outputs": [
    {
     "data": {
      "text/html": [
       "<div>\n",
       "<style scoped>\n",
       "    .dataframe tbody tr th:only-of-type {\n",
       "        vertical-align: middle;\n",
       "    }\n",
       "\n",
       "    .dataframe tbody tr th {\n",
       "        vertical-align: top;\n",
       "    }\n",
       "\n",
       "    .dataframe thead th {\n",
       "        text-align: right;\n",
       "    }\n",
       "</style>\n",
       "<table border=\"1\" class=\"dataframe\">\n",
       "  <thead>\n",
       "    <tr style=\"text-align: right;\">\n",
       "      <th></th>\n",
       "      <th>sudoku</th>\n",
       "      <th>alg2</th>\n",
       "      <th>time</th>\n",
       "      <th>difficulty</th>\n",
       "    </tr>\n",
       "  </thead>\n",
       "  <tbody>\n",
       "    <tr>\n",
       "      <th>0</th>\n",
       "      <td>000000</td>\n",
       "      <td>False</td>\n",
       "      <td>12545.650</td>\n",
       "      <td>10781.0</td>\n",
       "    </tr>\n",
       "    <tr>\n",
       "      <th>1</th>\n",
       "      <td>000000</td>\n",
       "      <td>True</td>\n",
       "      <td>6.320</td>\n",
       "      <td>1.0</td>\n",
       "    </tr>\n",
       "    <tr>\n",
       "      <th>2</th>\n",
       "      <td>003020</td>\n",
       "      <td>False</td>\n",
       "      <td>2.960</td>\n",
       "      <td>1.0</td>\n",
       "    </tr>\n",
       "    <tr>\n",
       "      <th>3</th>\n",
       "      <td>003020</td>\n",
       "      <td>True</td>\n",
       "      <td>2.985</td>\n",
       "      <td>1.0</td>\n",
       "    </tr>\n",
       "    <tr>\n",
       "      <th>4</th>\n",
       "      <td>005300</td>\n",
       "      <td>False</td>\n",
       "      <td>190.020</td>\n",
       "      <td>134.5</td>\n",
       "    </tr>\n",
       "  </tbody>\n",
       "</table>\n",
       "</div>"
      ],
      "text/plain": [
       "   sudoku   alg2       time  difficulty\n",
       "0  000000  False  12545.650     10781.0\n",
       "1  000000   True      6.320         1.0\n",
       "2  003020  False      2.960         1.0\n",
       "3  003020   True      2.985         1.0\n",
       "4  005300  False    190.020       134.5"
      ]
     },
     "execution_count": 13,
     "metadata": {},
     "output_type": "execute_result"
    }
   ],
   "source": [
    "df_pl = df_tw.groupby(by=['sudoku', 'alg2']).mean().reset_index()\n",
    "df_pl.head()\n"
   ]
  },
  {
   "cell_type": "code",
   "execution_count": 16,
   "metadata": {},
   "outputs": [
    {
     "data": {
      "text/plain": [
       "<AxesSubplot:xlabel='sudoku', ylabel='time'>"
      ]
     },
     "execution_count": 16,
     "metadata": {},
     "output_type": "execute_result"
    },
    {
     "data": {
      "image/png": "[encoded data removed]",
      "text/plain": [
       "<Figure size 432x288 with 1 Axes>"
      ]
     },
     "metadata": {
      "needs_background": "light"
     },
     "output_type": "display_data"
    }
   ],
   "source": [
    "sns.barplot(data=df_pl, x='sudoku', y='time', hue='alg2', log=True)"
   ]
  },
  {
   "cell_type": "code",
   "execution_count": 7,
   "metadata": {
    "scrolled": false
   },
   "outputs": [
    {
     "data": {
      "image/png": "[encoded data removed]",
      "text/plain": [
       "<Figure size 432x288 with 1 Axes>"
      ]
     },
     "metadata": {
      "needs_background": "light"
     },
     "output_type": "display_data"
    }
   ],
   "source": [
    "#g = sns.stripplot(data=df_tw[df_tw['Alg2?']==False], x='sudoku', y='Difficulty', hue='Alg2?')\n",
    "df_tw = df_tw.rename(columns={'Alg2?': 'alg2'})\n",
    "g = sns.stripplot(data=df_tw.query('alg2==True'), x='sudoku', y='Difficulty', hue='version')"
   ]
  },
  {
   "cell_type": "code",
   "execution_count": null,
   "metadata": {},
   "outputs": [],
   "source": []
  }
 ],
 "metadata": {
  "kernelspec": {
   "display_name": "Python 3 (ipykernel)",
   "language": "python",
   "name": "python3"
  },
  "language_info": {
   "codemirror_mode": {
    "name": "ipython",
    "version": 3
   },
   "file_extension": ".py",
   "mimetype": "text/x-python",
   "name": "python",
   "nbconvert_exporter": "python",
   "pygments_lexer": "ipython3",
   "version": "3.10.4"
  },
  "vscode": {
   "interpreter": {
    "hash": "916dbcbb3f70747c44a77c7bcd40155683ae19c65e1c03b4aa3499c5328201f1"
   }
  }
 },
 "nbformat": 4,
 "nbformat_minor": 2
}
