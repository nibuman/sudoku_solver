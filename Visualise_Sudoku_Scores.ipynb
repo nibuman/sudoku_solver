{
 "cells": [
  {
   "cell_type": "markdown",
   "metadata": {},
   "source": [
    "## Looking at how fast the sudoku solver works\n"
   ]
  },
  {
   "cell_type": "code",
   "execution_count": 61,
   "metadata": {},
   "outputs": [
    {
     "data": {
      "text/html": [
       "<div>\n",
       "<style scoped>\n",
       "    .dataframe tbody tr th:only-of-type {\n",
       "        vertical-align: middle;\n",
       "    }\n",
       "\n",
       "    .dataframe tbody tr th {\n",
       "        vertical-align: top;\n",
       "    }\n",
       "\n",
       "    .dataframe thead th {\n",
       "        text-align: right;\n",
       "    }\n",
       "</style>\n",
       "<table border=\"1\" class=\"dataframe\">\n",
       "  <thead>\n",
       "    <tr style=\"text-align: right;\">\n",
       "      <th></th>\n",
       "      <th>date</th>\n",
       "      <th>sudoku</th>\n",
       "      <th>time</th>\n",
       "      <th>difficulty</th>\n",
       "      <th>alg2</th>\n",
       "      <th>version</th>\n",
       "    </tr>\n",
       "  </thead>\n",
       "  <tbody>\n",
       "    <tr>\n",
       "      <th>0</th>\n",
       "      <td>2022-07-30 00:33:22.214405</td>\n",
       "      <td>\"003020600900305001001806400008102900700000008...</td>\n",
       "      <td>0.00232</td>\n",
       "      <td>1</td>\n",
       "      <td>False</td>\n",
       "      <td>v2.11</td>\n",
       "    </tr>\n",
       "    <tr>\n",
       "      <th>1</th>\n",
       "      <td>2022-07-30 00:33:22.217619</td>\n",
       "      <td>\"003020600900305001001806400008102900700000008...</td>\n",
       "      <td>0.00216</td>\n",
       "      <td>1</td>\n",
       "      <td>True</td>\n",
       "      <td>v2.11</td>\n",
       "    </tr>\n",
       "    <tr>\n",
       "      <th>2</th>\n",
       "      <td>2022-07-30 00:33:22.219949</td>\n",
       "      <td>\"005306078200407005000009106008002034040030010...</td>\n",
       "      <td>0.00167</td>\n",
       "      <td>1</td>\n",
       "      <td>False</td>\n",
       "      <td>v2.11</td>\n",
       "    </tr>\n",
       "    <tr>\n",
       "      <th>3</th>\n",
       "      <td>2022-07-30 00:33:22.222150</td>\n",
       "      <td>\"005306078200407005000009106008002034040030010...</td>\n",
       "      <td>0.00155</td>\n",
       "      <td>1</td>\n",
       "      <td>True</td>\n",
       "      <td>v2.11</td>\n",
       "    </tr>\n",
       "    <tr>\n",
       "      <th>4</th>\n",
       "      <td>2022-07-30 00:33:22.233287</td>\n",
       "      <td>\"069800500000000103400000020000170000080006000...</td>\n",
       "      <td>0.01052</td>\n",
       "      <td>7</td>\n",
       "      <td>False</td>\n",
       "      <td>v2.11</td>\n",
       "    </tr>\n",
       "  </tbody>\n",
       "</table>\n",
       "</div>"
      ],
      "text/plain": [
       "                         date  \\\n",
       "0  2022-07-30 00:33:22.214405   \n",
       "1  2022-07-30 00:33:22.217619   \n",
       "2  2022-07-30 00:33:22.219949   \n",
       "3  2022-07-30 00:33:22.222150   \n",
       "4  2022-07-30 00:33:22.233287   \n",
       "\n",
       "                                              sudoku     time  difficulty  \\\n",
       "0  \"003020600900305001001806400008102900700000008...  0.00232           1   \n",
       "1  \"003020600900305001001806400008102900700000008...  0.00216           1   \n",
       "2  \"005306078200407005000009106008002034040030010...  0.00167           1   \n",
       "3  \"005306078200407005000009106008002034040030010...  0.00155           1   \n",
       "4  \"069800500000000103400000020000170000080006000...  0.01052           7   \n",
       "\n",
       "    alg2 version  \n",
       "0  False   v2.11  \n",
       "1   True   v2.11  \n",
       "2  False   v2.11  \n",
       "3   True   v2.11  \n",
       "4  False   v2.11  "
      ]
     },
     "execution_count": 61,
     "metadata": {},
     "output_type": "execute_result"
    }
   ],
   "source": [
    "import pandas as pd\n",
    "import matplotlib\n",
    "import seaborn as sns\n",
    "import numpy as np\n",
    "\n",
    "df = pd.read_csv('sudoku_tst_scores.csv')\n",
    "df.head()"
   ]
  },
  {
   "cell_type": "code",
   "execution_count": 62,
   "metadata": {},
   "outputs": [
    {
     "data": {
      "text/html": [
       "<div>\n",
       "<style scoped>\n",
       "    .dataframe tbody tr th:only-of-type {\n",
       "        vertical-align: middle;\n",
       "    }\n",
       "\n",
       "    .dataframe tbody tr th {\n",
       "        vertical-align: top;\n",
       "    }\n",
       "\n",
       "    .dataframe thead th {\n",
       "        text-align: right;\n",
       "    }\n",
       "</style>\n",
       "<table border=\"1\" class=\"dataframe\">\n",
       "  <thead>\n",
       "    <tr style=\"text-align: right;\">\n",
       "      <th></th>\n",
       "      <th>date</th>\n",
       "      <th>sudoku</th>\n",
       "      <th>time</th>\n",
       "      <th>difficulty</th>\n",
       "      <th>alg2</th>\n",
       "      <th>version</th>\n",
       "    </tr>\n",
       "  </thead>\n",
       "  <tbody>\n",
       "    <tr>\n",
       "      <th>7</th>\n",
       "      <td>2022-07-30 00:33:24.831531</td>\n",
       "      <td>800000</td>\n",
       "      <td>2589.64</td>\n",
       "      <td>1824</td>\n",
       "      <td>False</td>\n",
       "      <td>v2.11</td>\n",
       "    </tr>\n",
       "    <tr>\n",
       "      <th>8</th>\n",
       "      <td>2022-07-30 00:33:25.034030</td>\n",
       "      <td>005300</td>\n",
       "      <td>153.89</td>\n",
       "      <td>141</td>\n",
       "      <td>False</td>\n",
       "      <td>v2.11</td>\n",
       "    </tr>\n",
       "    <tr>\n",
       "      <th>9</th>\n",
       "      <td>2022-07-30 00:33:42.116987</td>\n",
       "      <td>000000</td>\n",
       "      <td>17049.94</td>\n",
       "      <td>13999</td>\n",
       "      <td>False</td>\n",
       "      <td>v2.11</td>\n",
       "    </tr>\n",
       "    <tr>\n",
       "      <th>18</th>\n",
       "      <td>2022-07-30 00:53:32.375880</td>\n",
       "      <td>800000</td>\n",
       "      <td>1076.46</td>\n",
       "      <td>801</td>\n",
       "      <td>False</td>\n",
       "      <td>v2.11</td>\n",
       "    </tr>\n",
       "    <tr>\n",
       "      <th>19</th>\n",
       "      <td>2022-07-30 00:53:32.561655</td>\n",
       "      <td>800000</td>\n",
       "      <td>182.62</td>\n",
       "      <td>102</td>\n",
       "      <td>True</td>\n",
       "      <td>v2.11</td>\n",
       "    </tr>\n",
       "    <tr>\n",
       "      <th>20</th>\n",
       "      <td>2022-07-30 00:53:32.789140</td>\n",
       "      <td>005300</td>\n",
       "      <td>226.15</td>\n",
       "      <td>128</td>\n",
       "      <td>False</td>\n",
       "      <td>v2.11</td>\n",
       "    </tr>\n",
       "    <tr>\n",
       "      <th>21</th>\n",
       "      <td>2022-07-30 00:53:32.861370</td>\n",
       "      <td>005300</td>\n",
       "      <td>71.29</td>\n",
       "      <td>42</td>\n",
       "      <td>True</td>\n",
       "      <td>v2.11</td>\n",
       "    </tr>\n",
       "    <tr>\n",
       "      <th>22</th>\n",
       "      <td>2022-07-30 00:53:40.904255</td>\n",
       "      <td>000000</td>\n",
       "      <td>8041.36</td>\n",
       "      <td>7563</td>\n",
       "      <td>False</td>\n",
       "      <td>v2.11</td>\n",
       "    </tr>\n",
       "    <tr>\n",
       "      <th>32</th>\n",
       "      <td>2022-07-30 11:57:59.624401</td>\n",
       "      <td>800000</td>\n",
       "      <td>2397.78</td>\n",
       "      <td>1841</td>\n",
       "      <td>False</td>\n",
       "      <td>v2.11</td>\n",
       "    </tr>\n",
       "    <tr>\n",
       "      <th>33</th>\n",
       "      <td>2022-07-30 11:57:59.986054</td>\n",
       "      <td>800000</td>\n",
       "      <td>360.80</td>\n",
       "      <td>193</td>\n",
       "      <td>True</td>\n",
       "      <td>v2.11</td>\n",
       "    </tr>\n",
       "    <tr>\n",
       "      <th>34</th>\n",
       "      <td>2022-07-30 11:58:00.057905</td>\n",
       "      <td>005300</td>\n",
       "      <td>71.02</td>\n",
       "      <td>53</td>\n",
       "      <td>False</td>\n",
       "      <td>v2.11</td>\n",
       "    </tr>\n",
       "    <tr>\n",
       "      <th>35</th>\n",
       "      <td>2022-07-30 11:58:00.093912</td>\n",
       "      <td>005300</td>\n",
       "      <td>35.15</td>\n",
       "      <td>23</td>\n",
       "      <td>True</td>\n",
       "      <td>v2.11</td>\n",
       "    </tr>\n",
       "    <tr>\n",
       "      <th>36</th>\n",
       "      <td>2022-07-30 11:58:15.157990</td>\n",
       "      <td>000000</td>\n",
       "      <td>15063.24</td>\n",
       "      <td>12103</td>\n",
       "      <td>False</td>\n",
       "      <td>v2.11</td>\n",
       "    </tr>\n",
       "    <tr>\n",
       "      <th>46</th>\n",
       "      <td>2022-07-30 11:59:45.316775</td>\n",
       "      <td>800000</td>\n",
       "      <td>1316.26</td>\n",
       "      <td>775</td>\n",
       "      <td>False</td>\n",
       "      <td>v2.11</td>\n",
       "    </tr>\n",
       "    <tr>\n",
       "      <th>47</th>\n",
       "      <td>2022-07-30 11:59:45.552279</td>\n",
       "      <td>800000</td>\n",
       "      <td>234.44</td>\n",
       "      <td>102</td>\n",
       "      <td>True</td>\n",
       "      <td>v2.11</td>\n",
       "    </tr>\n",
       "    <tr>\n",
       "      <th>48</th>\n",
       "      <td>2022-07-30 11:59:45.735343</td>\n",
       "      <td>005300</td>\n",
       "      <td>181.76</td>\n",
       "      <td>128</td>\n",
       "      <td>False</td>\n",
       "      <td>v2.11</td>\n",
       "    </tr>\n",
       "    <tr>\n",
       "      <th>49</th>\n",
       "      <td>2022-07-30 11:59:45.815796</td>\n",
       "      <td>005300</td>\n",
       "      <td>79.57</td>\n",
       "      <td>42</td>\n",
       "      <td>True</td>\n",
       "      <td>v2.11</td>\n",
       "    </tr>\n",
       "    <tr>\n",
       "      <th>50</th>\n",
       "      <td>2022-07-30 11:59:54.535983</td>\n",
       "      <td>000000</td>\n",
       "      <td>8718.50</td>\n",
       "      <td>7792</td>\n",
       "      <td>False</td>\n",
       "      <td>v2.11</td>\n",
       "    </tr>\n",
       "    <tr>\n",
       "      <th>60</th>\n",
       "      <td>2022-07-30 12:00:23.212555</td>\n",
       "      <td>800000</td>\n",
       "      <td>1850.58</td>\n",
       "      <td>1220</td>\n",
       "      <td>False</td>\n",
       "      <td>v2.11</td>\n",
       "    </tr>\n",
       "    <tr>\n",
       "      <th>61</th>\n",
       "      <td>2022-07-30 12:00:23.378120</td>\n",
       "      <td>800000</td>\n",
       "      <td>164.52</td>\n",
       "      <td>94</td>\n",
       "      <td>True</td>\n",
       "      <td>v2.11</td>\n",
       "    </tr>\n",
       "  </tbody>\n",
       "</table>\n",
       "</div>"
      ],
      "text/plain": [
       "                         date  sudoku      time  difficulty   alg2 version\n",
       "7  2022-07-30 00:33:24.831531  800000   2589.64        1824  False   v2.11\n",
       "8  2022-07-30 00:33:25.034030  005300    153.89         141  False   v2.11\n",
       "9  2022-07-30 00:33:42.116987  000000  17049.94       13999  False   v2.11\n",
       "18 2022-07-30 00:53:32.375880  800000   1076.46         801  False   v2.11\n",
       "19 2022-07-30 00:53:32.561655  800000    182.62         102   True   v2.11\n",
       "20 2022-07-30 00:53:32.789140  005300    226.15         128  False   v2.11\n",
       "21 2022-07-30 00:53:32.861370  005300     71.29          42   True   v2.11\n",
       "22 2022-07-30 00:53:40.904255  000000   8041.36        7563  False   v2.11\n",
       "32 2022-07-30 11:57:59.624401  800000   2397.78        1841  False   v2.11\n",
       "33 2022-07-30 11:57:59.986054  800000    360.80         193   True   v2.11\n",
       "34 2022-07-30 11:58:00.057905  005300     71.02          53  False   v2.11\n",
       "35 2022-07-30 11:58:00.093912  005300     35.15          23   True   v2.11\n",
       "36 2022-07-30 11:58:15.157990  000000  15063.24       12103  False   v2.11\n",
       "46 2022-07-30 11:59:45.316775  800000   1316.26         775  False   v2.11\n",
       "47 2022-07-30 11:59:45.552279  800000    234.44         102   True   v2.11\n",
       "48 2022-07-30 11:59:45.735343  005300    181.76         128  False   v2.11\n",
       "49 2022-07-30 11:59:45.815796  005300     79.57          42   True   v2.11\n",
       "50 2022-07-30 11:59:54.535983  000000   8718.50        7792  False   v2.11\n",
       "60 2022-07-30 12:00:23.212555  800000   1850.58        1220  False   v2.11\n",
       "61 2022-07-30 12:00:23.378120  800000    164.52          94   True   v2.11"
      ]
     },
     "execution_count": 62,
     "metadata": {},
     "output_type": "execute_result"
    }
   ],
   "source": [
    "df_tw = (df\n",
    "         .assign(sudoku=lambda df_: df_.sudoku.apply(lambda x: x[1:7]),\n",
    "                 time=df.time * 1000,\n",
    "                 date=pd.to_datetime(df.date)\n",
    "            )\n",
    "        )\n",
    "df_tw[df_tw.difficulty > 10].head(20)"
   ]
  },
  {
   "cell_type": "code",
   "execution_count": 74,
   "metadata": {},
   "outputs": [
    {
     "data": {
      "text/plain": [
       "(21, 5)"
      ]
     },
     "execution_count": 74,
     "metadata": {},
     "output_type": "execute_result"
    }
   ],
   "source": [
    "df_pl = (df_tw\n",
    "         .groupby(by=['sudoku', 'alg2', 'version'])\n",
    "         .median()\n",
    "         .reset_index()\n",
    "         .query('alg2 == True')\n",
    "        )\n",
    "df_pl.shape\n"
   ]
  },
  {
   "cell_type": "code",
   "execution_count": 75,
   "metadata": {},
   "outputs": [
    {
     "data": {
      "text/plain": [
       "<AxesSubplot:xlabel='sudoku', ylabel='difficulty'>"
      ]
     },
     "execution_count": 75,
     "metadata": {},
     "output_type": "execute_result"
    },
    {
     "data": {
      "image/png": "[encoded data removed]",
      "text/plain": [
       "<Figure size 432x288 with 1 Axes>"
      ]
     },
     "metadata": {
      "needs_background": "light"
     },
     "output_type": "display_data"
    }
   ],
   "source": [
    "sns.barplot(data=df_pl, x='sudoku', y='difficulty', hue='version', log=True)"
   ]
  },
  {
   "cell_type": "code",
   "execution_count": 69,
   "metadata": {},
   "outputs": [
    {
     "data": {
      "text/plain": [
       "v2.11    181\n",
       "v3.0     158\n",
       "v3.1      84\n",
       "Name: version, dtype: int64"
      ]
     },
     "execution_count": 69,
     "metadata": {},
     "output_type": "execute_result"
    }
   ],
   "source": [
    "\n",
    "df_pl2 = df_tw['version'].value_counts()\n",
    "df_pl2"
   ]
  },
  {
   "cell_type": "code",
   "execution_count": 7,
   "metadata": {
    "scrolled": false
   },
   "outputs": [
    {
     "data": {
      "image/png": "[encoded data removed]",
      "text/plain": [
       "<Figure size 432x288 with 1 Axes>"
      ]
     },
     "metadata": {
      "needs_background": "light"
     },
     "output_type": "display_data"
    }
   ],
   "source": [
    "#g = sns.stripplot(data=df_tw[df_tw['Alg2?']==False], x='sudoku', y='Difficulty', hue='Alg2?')\n",
    "df_tw = df_tw.rename(columns={'Alg2?': 'alg2'})\n",
    "g = sns.stripplot(data=df_tw.query('alg2==True'), x='sudoku', y='Difficulty', hue='version')"
   ]
  },
  {
   "cell_type": "code",
   "execution_count": null,
   "metadata": {},
   "outputs": [],
   "source": []
  }
 ],
 "metadata": {
  "kernelspec": {
   "display_name": "Python 3 (ipykernel)",
   "language": "python",
   "name": "python3"
  },
  "language_info": {
   "codemirror_mode": {
    "name": "ipython",
    "version": 3
   },
   "file_extension": ".py",
   "mimetype": "text/x-python",
   "name": "python",
   "nbconvert_exporter": "python",
   "pygments_lexer": "ipython3",
   "version": "3.10.4"
  },
  "vscode": {
   "interpreter": {
    "hash": "916dbcbb3f70747c44a77c7bcd40155683ae19c65e1c03b4aa3499c5328201f1"
   }
  }
 },
 "nbformat": 4,
 "nbformat_minor": 2
}
