{
 "cells": [
  {
   "cell_type": "markdown",
   "metadata": {},
   "source": [
    "## Looking at how fast the sudoku solver works\n"
   ]
  },
  {
   "cell_type": "code",
   "execution_count": 29,
   "metadata": {},
   "outputs": [
    {
     "data": {
      "text/html": [
       "<div>\n",
       "<style scoped>\n",
       "    .dataframe tbody tr th:only-of-type {\n",
       "        vertical-align: middle;\n",
       "    }\n",
       "\n",
       "    .dataframe tbody tr th {\n",
       "        vertical-align: top;\n",
       "    }\n",
       "\n",
       "    .dataframe thead th {\n",
       "        text-align: right;\n",
       "    }\n",
       "</style>\n",
       "<table border=\"1\" class=\"dataframe\">\n",
       "  <thead>\n",
       "    <tr style=\"text-align: right;\">\n",
       "      <th></th>\n",
       "      <th>date</th>\n",
       "      <th>sudoku</th>\n",
       "      <th>time</th>\n",
       "      <th>difficulty</th>\n",
       "      <th>alg2</th>\n",
       "      <th>version</th>\n",
       "    </tr>\n",
       "  </thead>\n",
       "  <tbody>\n",
       "    <tr>\n",
       "      <th>0</th>\n",
       "      <td>2022-07-30 00:33:22.214405</td>\n",
       "      <td>\"003020600900305001001806400008102900700000008...</td>\n",
       "      <td>0.00232</td>\n",
       "      <td>1</td>\n",
       "      <td>False</td>\n",
       "      <td>v2.11</td>\n",
       "    </tr>\n",
       "    <tr>\n",
       "      <th>1</th>\n",
       "      <td>2022-07-30 00:33:22.217619</td>\n",
       "      <td>\"003020600900305001001806400008102900700000008...</td>\n",
       "      <td>0.00216</td>\n",
       "      <td>1</td>\n",
       "      <td>True</td>\n",
       "      <td>v2.11</td>\n",
       "    </tr>\n",
       "    <tr>\n",
       "      <th>2</th>\n",
       "      <td>2022-07-30 00:33:22.219949</td>\n",
       "      <td>\"005306078200407005000009106008002034040030010...</td>\n",
       "      <td>0.00167</td>\n",
       "      <td>1</td>\n",
       "      <td>False</td>\n",
       "      <td>v2.11</td>\n",
       "    </tr>\n",
       "    <tr>\n",
       "      <th>3</th>\n",
       "      <td>2022-07-30 00:33:22.222150</td>\n",
       "      <td>\"005306078200407005000009106008002034040030010...</td>\n",
       "      <td>0.00155</td>\n",
       "      <td>1</td>\n",
       "      <td>True</td>\n",
       "      <td>v2.11</td>\n",
       "    </tr>\n",
       "    <tr>\n",
       "      <th>4</th>\n",
       "      <td>2022-07-30 00:33:22.233287</td>\n",
       "      <td>\"069800500000000103400000020000170000080006000...</td>\n",
       "      <td>0.01052</td>\n",
       "      <td>7</td>\n",
       "      <td>False</td>\n",
       "      <td>v2.11</td>\n",
       "    </tr>\n",
       "  </tbody>\n",
       "</table>\n",
       "</div>"
      ],
      "text/plain": [
       "                         date  \\\n",
       "0  2022-07-30 00:33:22.214405   \n",
       "1  2022-07-30 00:33:22.217619   \n",
       "2  2022-07-30 00:33:22.219949   \n",
       "3  2022-07-30 00:33:22.222150   \n",
       "4  2022-07-30 00:33:22.233287   \n",
       "\n",
       "                                              sudoku     time  difficulty  \\\n",
       "0  \"003020600900305001001806400008102900700000008...  0.00232           1   \n",
       "1  \"003020600900305001001806400008102900700000008...  0.00216           1   \n",
       "2  \"005306078200407005000009106008002034040030010...  0.00167           1   \n",
       "3  \"005306078200407005000009106008002034040030010...  0.00155           1   \n",
       "4  \"069800500000000103400000020000170000080006000...  0.01052           7   \n",
       "\n",
       "    alg2 version  \n",
       "0  False   v2.11  \n",
       "1   True   v2.11  \n",
       "2  False   v2.11  \n",
       "3   True   v2.11  \n",
       "4  False   v2.11  "
      ]
     },
     "execution_count": 29,
     "metadata": {},
     "output_type": "execute_result"
    }
   ],
   "source": [
    "import pandas as pd\n",
    "import matplotlib\n",
    "import seaborn as sns\n",
    "import numpy as np\n",
    "\n",
    "df = pd.read_csv('sudoku_tst_scores.csv')\n",
    "df.head()"
   ]
  },
  {
   "cell_type": "code",
   "execution_count": 30,
   "metadata": {},
   "outputs": [
    {
     "data": {
      "text/html": [
       "<div>\n",
       "<style scoped>\n",
       "    .dataframe tbody tr th:only-of-type {\n",
       "        vertical-align: middle;\n",
       "    }\n",
       "\n",
       "    .dataframe tbody tr th {\n",
       "        vertical-align: top;\n",
       "    }\n",
       "\n",
       "    .dataframe thead th {\n",
       "        text-align: right;\n",
       "    }\n",
       "</style>\n",
       "<table border=\"1\" class=\"dataframe\">\n",
       "  <thead>\n",
       "    <tr style=\"text-align: right;\">\n",
       "      <th></th>\n",
       "      <th>date</th>\n",
       "      <th>sudoku</th>\n",
       "      <th>time</th>\n",
       "      <th>difficulty</th>\n",
       "      <th>alg2</th>\n",
       "      <th>version</th>\n",
       "    </tr>\n",
       "  </thead>\n",
       "  <tbody>\n",
       "    <tr>\n",
       "      <th>1394</th>\n",
       "      <td>2023-03-18 00:11:38.812572</td>\n",
       "      <td>800000</td>\n",
       "      <td>69.71</td>\n",
       "      <td>34</td>\n",
       "      <td>True</td>\n",
       "      <td>v7.2</td>\n",
       "    </tr>\n",
       "    <tr>\n",
       "      <th>1395</th>\n",
       "      <td>2023-03-18 00:11:38.886131</td>\n",
       "      <td>005300</td>\n",
       "      <td>72.68</td>\n",
       "      <td>42</td>\n",
       "      <td>True</td>\n",
       "      <td>v7.2</td>\n",
       "    </tr>\n",
       "    <tr>\n",
       "      <th>1401</th>\n",
       "      <td>2023-03-18 00:12:23.049411</td>\n",
       "      <td>800000</td>\n",
       "      <td>338.61</td>\n",
       "      <td>175</td>\n",
       "      <td>True</td>\n",
       "      <td>v7.2</td>\n",
       "    </tr>\n",
       "    <tr>\n",
       "      <th>1402</th>\n",
       "      <td>2023-03-18 00:12:23.087578</td>\n",
       "      <td>005300</td>\n",
       "      <td>37.30</td>\n",
       "      <td>20</td>\n",
       "      <td>True</td>\n",
       "      <td>v7.2</td>\n",
       "    </tr>\n",
       "    <tr>\n",
       "      <th>1408</th>\n",
       "      <td>2023-03-18 00:13:38.972827</td>\n",
       "      <td>800000</td>\n",
       "      <td>341.16</td>\n",
       "      <td>190</td>\n",
       "      <td>True</td>\n",
       "      <td>v7.2</td>\n",
       "    </tr>\n",
       "    <tr>\n",
       "      <th>1409</th>\n",
       "      <td>2023-03-18 00:13:39.009648</td>\n",
       "      <td>005300</td>\n",
       "      <td>35.77</td>\n",
       "      <td>20</td>\n",
       "      <td>True</td>\n",
       "      <td>v7.2</td>\n",
       "    </tr>\n",
       "    <tr>\n",
       "      <th>1415</th>\n",
       "      <td>2023-03-18 22:21:16.486008</td>\n",
       "      <td>800000</td>\n",
       "      <td>491.80</td>\n",
       "      <td>239</td>\n",
       "      <td>True</td>\n",
       "      <td>v7.2</td>\n",
       "    </tr>\n",
       "    <tr>\n",
       "      <th>1416</th>\n",
       "      <td>2023-03-18 22:21:16.530686</td>\n",
       "      <td>005300</td>\n",
       "      <td>43.82</td>\n",
       "      <td>20</td>\n",
       "      <td>True</td>\n",
       "      <td>v7.2</td>\n",
       "    </tr>\n",
       "    <tr>\n",
       "      <th>1422</th>\n",
       "      <td>2023-03-18 23:27:10.053211</td>\n",
       "      <td>800000</td>\n",
       "      <td>405.56</td>\n",
       "      <td>191</td>\n",
       "      <td>True</td>\n",
       "      <td>v7.2</td>\n",
       "    </tr>\n",
       "    <tr>\n",
       "      <th>1423</th>\n",
       "      <td>2023-03-18 23:27:10.120942</td>\n",
       "      <td>005300</td>\n",
       "      <td>61.09</td>\n",
       "      <td>16</td>\n",
       "      <td>True</td>\n",
       "      <td>v7.2</td>\n",
       "    </tr>\n",
       "    <tr>\n",
       "      <th>1429</th>\n",
       "      <td>2023-03-18 23:27:10.525156</td>\n",
       "      <td>800000</td>\n",
       "      <td>123.58</td>\n",
       "      <td>49</td>\n",
       "      <td>True</td>\n",
       "      <td>v7.2</td>\n",
       "    </tr>\n",
       "    <tr>\n",
       "      <th>1430</th>\n",
       "      <td>2023-03-18 23:27:10.601267</td>\n",
       "      <td>005300</td>\n",
       "      <td>75.10</td>\n",
       "      <td>43</td>\n",
       "      <td>True</td>\n",
       "      <td>v7.2</td>\n",
       "    </tr>\n",
       "    <tr>\n",
       "      <th>1436</th>\n",
       "      <td>2023-03-18 23:27:12.315675</td>\n",
       "      <td>800000</td>\n",
       "      <td>670.57</td>\n",
       "      <td>258</td>\n",
       "      <td>True</td>\n",
       "      <td>v7.2</td>\n",
       "    </tr>\n",
       "    <tr>\n",
       "      <th>1437</th>\n",
       "      <td>2023-03-18 23:27:12.393980</td>\n",
       "      <td>005300</td>\n",
       "      <td>77.33</td>\n",
       "      <td>41</td>\n",
       "      <td>True</td>\n",
       "      <td>v7.2</td>\n",
       "    </tr>\n",
       "    <tr>\n",
       "      <th>1443</th>\n",
       "      <td>2023-03-18 23:27:13.185362</td>\n",
       "      <td>800000</td>\n",
       "      <td>93.26</td>\n",
       "      <td>34</td>\n",
       "      <td>True</td>\n",
       "      <td>v7.2</td>\n",
       "    </tr>\n",
       "    <tr>\n",
       "      <th>1444</th>\n",
       "      <td>2023-03-18 23:27:13.247590</td>\n",
       "      <td>005300</td>\n",
       "      <td>61.14</td>\n",
       "      <td>30</td>\n",
       "      <td>True</td>\n",
       "      <td>v7.2</td>\n",
       "    </tr>\n",
       "    <tr>\n",
       "      <th>1450</th>\n",
       "      <td>2023-03-18 23:27:14.171246</td>\n",
       "      <td>800000</td>\n",
       "      <td>192.20</td>\n",
       "      <td>93</td>\n",
       "      <td>True</td>\n",
       "      <td>v7.2</td>\n",
       "    </tr>\n",
       "    <tr>\n",
       "      <th>1451</th>\n",
       "      <td>2023-03-18 23:27:14.207853</td>\n",
       "      <td>005300</td>\n",
       "      <td>35.88</td>\n",
       "      <td>16</td>\n",
       "      <td>True</td>\n",
       "      <td>v7.2</td>\n",
       "    </tr>\n",
       "    <tr>\n",
       "      <th>1457</th>\n",
       "      <td>2023-03-18 23:27:15.495620</td>\n",
       "      <td>800000</td>\n",
       "      <td>334.17</td>\n",
       "      <td>86</td>\n",
       "      <td>True</td>\n",
       "      <td>v7.2</td>\n",
       "    </tr>\n",
       "    <tr>\n",
       "      <th>1458</th>\n",
       "      <td>2023-03-18 23:27:15.551930</td>\n",
       "      <td>005300</td>\n",
       "      <td>55.05</td>\n",
       "      <td>16</td>\n",
       "      <td>True</td>\n",
       "      <td>v7.2</td>\n",
       "    </tr>\n",
       "  </tbody>\n",
       "</table>\n",
       "</div>"
      ],
      "text/plain": [
       "                           date  sudoku    time  difficulty  alg2 version\n",
       "1394 2023-03-18 00:11:38.812572  800000   69.71          34  True    v7.2\n",
       "1395 2023-03-18 00:11:38.886131  005300   72.68          42  True    v7.2\n",
       "1401 2023-03-18 00:12:23.049411  800000  338.61         175  True    v7.2\n",
       "1402 2023-03-18 00:12:23.087578  005300   37.30          20  True    v7.2\n",
       "1408 2023-03-18 00:13:38.972827  800000  341.16         190  True    v7.2\n",
       "1409 2023-03-18 00:13:39.009648  005300   35.77          20  True    v7.2\n",
       "1415 2023-03-18 22:21:16.486008  800000  491.80         239  True    v7.2\n",
       "1416 2023-03-18 22:21:16.530686  005300   43.82          20  True    v7.2\n",
       "1422 2023-03-18 23:27:10.053211  800000  405.56         191  True    v7.2\n",
       "1423 2023-03-18 23:27:10.120942  005300   61.09          16  True    v7.2\n",
       "1429 2023-03-18 23:27:10.525156  800000  123.58          49  True    v7.2\n",
       "1430 2023-03-18 23:27:10.601267  005300   75.10          43  True    v7.2\n",
       "1436 2023-03-18 23:27:12.315675  800000  670.57         258  True    v7.2\n",
       "1437 2023-03-18 23:27:12.393980  005300   77.33          41  True    v7.2\n",
       "1443 2023-03-18 23:27:13.185362  800000   93.26          34  True    v7.2\n",
       "1444 2023-03-18 23:27:13.247590  005300   61.14          30  True    v7.2\n",
       "1450 2023-03-18 23:27:14.171246  800000  192.20          93  True    v7.2\n",
       "1451 2023-03-18 23:27:14.207853  005300   35.88          16  True    v7.2\n",
       "1457 2023-03-18 23:27:15.495620  800000  334.17          86  True    v7.2\n",
       "1458 2023-03-18 23:27:15.551930  005300   55.05          16  True    v7.2"
      ]
     },
     "execution_count": 30,
     "metadata": {},
     "output_type": "execute_result"
    }
   ],
   "source": [
    "df_tw = (df\n",
    "         .assign(sudoku=lambda df_: df_.sudoku.apply(lambda x: x[1:7]),\n",
    "                 time=df.time * 1000,\n",
    "                 date=pd.to_datetime(df.date)\n",
    "            )\n",
    "        )\n",
    "df_tw[df_tw.difficulty > 10].tail(20)"
   ]
  },
  {
   "cell_type": "code",
   "execution_count": 31,
   "metadata": {},
   "outputs": [
    {
     "data": {
      "text/plain": [
       "(84, 5)"
      ]
     },
     "execution_count": 31,
     "metadata": {},
     "output_type": "execute_result"
    }
   ],
   "source": [
    "df_pl = (df_tw\n",
    "         .groupby(by=['sudoku', 'version'])\n",
    "         .median()\n",
    "         .reset_index()\n",
    "        )\n",
    "df_pl.shape\n"
   ]
  },
  {
   "cell_type": "code",
   "execution_count": 32,
   "metadata": {},
   "outputs": [
    {
     "data": {
      "text/plain": [
       "<AxesSubplot:xlabel='sudoku', ylabel='difficulty'>"
      ]
     },
     "execution_count": 32,
     "metadata": {},
     "output_type": "execute_result"
    },
    {
     "data": {
      "image/png": "[encoded data removed]",
      "text/plain": [
       "<Figure size 432x288 with 1 Axes>"
      ]
     },
     "metadata": {
      "needs_background": "light"
     },
     "output_type": "display_data"
    }
   ],
   "source": [
    "sns.barplot(data=df_pl, x='sudoku', y='difficulty', hue='version', log=True)"
   ]
  },
  {
   "cell_type": "code",
   "execution_count": 33,
   "metadata": {},
   "outputs": [
    {
     "data": {
      "text/plain": [
       "v3.1     282\n",
       "v7.2     210\n",
       "v2.11    181\n",
       "v5       159\n",
       "v3.0     158\n",
       "v6.1     126\n",
       "v4       103\n",
       "v7.1      70\n",
       "v7        59\n",
       "v6.2      56\n",
       "v6.3      38\n",
       "v6        18\n",
       "Name: version, dtype: int64"
      ]
     },
     "execution_count": 33,
     "metadata": {},
     "output_type": "execute_result"
    }
   ],
   "source": [
    "\n",
    "df_pl2 = df_tw['version'].value_counts()\n",
    "df_pl2"
   ]
  },
  {
   "cell_type": "code",
   "execution_count": 34,
   "metadata": {
    "scrolled": false
   },
   "outputs": [
    {
     "data": {
      "image/png": "[encoded data removed]",
      "text/plain": [
       "<Figure size 432x288 with 1 Axes>"
      ]
     },
     "metadata": {
      "needs_background": "light"
     },
     "output_type": "display_data"
    }
   ],
   "source": [
    "#g = sns.stripplot(data=df_tw[df_tw['Alg2?']==False], x='sudoku', y='Difficulty', hue='Alg2?')\n",
    "df_tw = df_tw.rename(columns={'Alg2?': 'alg2'})\n",
    "g = sns.stripplot(data=df_tw.query('alg2==True'), x='sudoku', y='difficulty', hue='version')"
   ]
  },
  {
   "cell_type": "code",
   "execution_count": 35,
   "metadata": {},
   "outputs": [
    {
     "data": {
      "text/plain": [
       "<AxesSubplot:xlabel='sudoku', ylabel='time'>"
      ]
     },
     "execution_count": 35,
     "metadata": {},
     "output_type": "execute_result"
    },
    {
     "data": {
      "image/png": "[encoded data removed]",
      "text/plain": [
       "<Figure size 432x288 with 1 Axes>"
      ]
     },
     "metadata": {
      "needs_background": "light"
     },
     "output_type": "display_data"
    }
   ],
   "source": [
    "sns.barplot(data=df_pl, x='sudoku', y='time', hue='version', log=True)"
   ]
  }
 ],
 "metadata": {
  "kernelspec": {
   "display_name": "Python 3 (ipykernel)",
   "language": "python",
   "name": "python3"
  },
  "language_info": {
   "codemirror_mode": {
    "name": "ipython",
    "version": 3
   },
   "file_extension": ".py",
   "mimetype": "text/x-python",
   "name": "python",
   "nbconvert_exporter": "python",
   "pygments_lexer": "ipython3",
   "version": "3.10.6"
  },
  "vscode": {
   "interpreter": {
    "hash": "916dbcbb3f70747c44a77c7bcd40155683ae19c65e1c03b4aa3499c5328201f1"
   }
  }
 },
 "nbformat": 4,
 "nbformat_minor": 2
}
