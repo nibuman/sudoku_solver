{
 "cells": [
  {
   "cell_type": "markdown",
   "metadata": {},
   "source": [
    "## Looking at how fast the sudoku solver works\n"
   ]
  },
  {
   "cell_type": "code",
   "execution_count": 5,
   "metadata": {},
   "outputs": [],
   "source": [
    "import pandas as pd\n",
    "import matplotlib\n",
    "import seaborn as sns\n",
    "import numpy as np\n",
    "\n",
    "df = pd.read_csv('sudoku_tst_scores.csv')\n"
   ]
  },
  {
   "cell_type": "code",
   "execution_count": 17,
   "metadata": {},
   "outputs": [
    {
     "data": {
      "text/html": [
       "<div>\n",
       "<style scoped>\n",
       "    .dataframe tbody tr th:only-of-type {\n",
       "        vertical-align: middle;\n",
       "    }\n",
       "\n",
       "    .dataframe tbody tr th {\n",
       "        vertical-align: top;\n",
       "    }\n",
       "\n",
       "    .dataframe thead th {\n",
       "        text-align: right;\n",
       "    }\n",
       "</style>\n",
       "<table border=\"1\" class=\"dataframe\">\n",
       "  <thead>\n",
       "    <tr style=\"text-align: right;\">\n",
       "      <th></th>\n",
       "      <th>sudoku</th>\n",
       "      <th>Time</th>\n",
       "      <th>Difficulty</th>\n",
       "      <th>Alg2?</th>\n",
       "      <th>version</th>\n",
       "    </tr>\n",
       "  </thead>\n",
       "  <tbody>\n",
       "    <tr>\n",
       "      <th>0</th>\n",
       "      <td>003020</td>\n",
       "      <td>1.32</td>\n",
       "      <td>1</td>\n",
       "      <td>True</td>\n",
       "      <td>v2.0</td>\n",
       "    </tr>\n",
       "    <tr>\n",
       "      <th>1</th>\n",
       "      <td>003020</td>\n",
       "      <td>1.77</td>\n",
       "      <td>1</td>\n",
       "      <td>False</td>\n",
       "      <td>v2.0</td>\n",
       "    </tr>\n",
       "    <tr>\n",
       "      <th>2</th>\n",
       "      <td>005306</td>\n",
       "      <td>1.38</td>\n",
       "      <td>1</td>\n",
       "      <td>True</td>\n",
       "      <td>v2.0</td>\n",
       "    </tr>\n",
       "    <tr>\n",
       "      <th>3</th>\n",
       "      <td>005306</td>\n",
       "      <td>1.42</td>\n",
       "      <td>1</td>\n",
       "      <td>False</td>\n",
       "      <td>v2.0</td>\n",
       "    </tr>\n",
       "    <tr>\n",
       "      <th>4</th>\n",
       "      <td>069800</td>\n",
       "      <td>4.71</td>\n",
       "      <td>1</td>\n",
       "      <td>True</td>\n",
       "      <td>v2.0</td>\n",
       "    </tr>\n",
       "  </tbody>\n",
       "</table>\n",
       "</div>"
      ],
      "text/plain": [
       "   sudoku  Time  Difficulty  Alg2? version\n",
       "0  003020  1.32           1   True    v2.0\n",
       "1  003020  1.77           1  False    v2.0\n",
       "2  005306  1.38           1   True    v2.0\n",
       "3  005306  1.42           1  False    v2.0\n",
       "4  069800  4.71           1   True    v2.0"
      ]
     },
     "execution_count": 17,
     "metadata": {},
     "output_type": "execute_result"
    }
   ],
   "source": [
    "df_tw = (df\n",
    "         .rename(columns={'Input Sudoku String': 'sudoku'})\n",
    "         .assign(sudoku=lambda df_: df_.sudoku.apply(lambda x: x[1:7]),\n",
    "                 Time=df.Time * 1000\n",
    "            )\n",
    "        )\n",
    "\n",
    "df_tw.head()"
   ]
  },
  {
   "cell_type": "code",
   "execution_count": 21,
   "metadata": {},
   "outputs": [
    {
     "data": {
      "text/plain": [
       "<AxesSubplot:xlabel='sudoku'>"
      ]
     },
     "execution_count": 21,
     "metadata": {},
     "output_type": "execute_result"
    },
    {
     "data": {
      "image/png": "[encoded data removed]",
      "text/plain": [
       "<Figure size 432x288 with 1 Axes>"
      ]
     },
     "metadata": {
      "needs_background": "light"
     },
     "output_type": "display_data"
    }
   ],
   "source": [
    "df_pl = df_tw.groupby('sudoku').mean()\n",
    "\n",
    "df_pl.plot.bar(y='Time', logy=True)"
   ]
  }
 ],
 "metadata": {
  "kernelspec": {
   "display_name": "Python 3.10.4 64-bit",
   "language": "python",
   "name": "python3"
  },
  "language_info": {
   "codemirror_mode": {
    "name": "ipython",
    "version": 3
   },
   "file_extension": ".py",
   "mimetype": "text/x-python",
   "name": "python",
   "nbconvert_exporter": "python",
   "pygments_lexer": "ipython3",
   "version": "3.10.4"
  },
  "orig_nbformat": 4,
  "vscode": {
   "interpreter": {
    "hash": "916dbcbb3f70747c44a77c7bcd40155683ae19c65e1c03b4aa3499c5328201f1"
   }
  }
 },
 "nbformat": 4,
 "nbformat_minor": 2
}
