{
 "cells": [
  {
   "cell_type": "markdown",
   "metadata": {},
   "source": [
    "## Looking at how fast the sudoku solver works\n"
   ]
  },
  {
   "cell_type": "code",
   "execution_count": 53,
   "metadata": {},
   "outputs": [
    {
     "data": {
      "text/html": [
       "<div>\n",
       "<style scoped>\n",
       "    .dataframe tbody tr th:only-of-type {\n",
       "        vertical-align: middle;\n",
       "    }\n",
       "\n",
       "    .dataframe tbody tr th {\n",
       "        vertical-align: top;\n",
       "    }\n",
       "\n",
       "    .dataframe thead th {\n",
       "        text-align: right;\n",
       "    }\n",
       "</style>\n",
       "<table border=\"1\" class=\"dataframe\">\n",
       "  <thead>\n",
       "    <tr style=\"text-align: right;\">\n",
       "      <th></th>\n",
       "      <th>date</th>\n",
       "      <th>sudoku</th>\n",
       "      <th>time</th>\n",
       "      <th>difficulty</th>\n",
       "      <th>alg2</th>\n",
       "      <th>version</th>\n",
       "    </tr>\n",
       "  </thead>\n",
       "  <tbody>\n",
       "    <tr>\n",
       "      <th>0</th>\n",
       "      <td>2022-07-30 00:33:22.214405</td>\n",
       "      <td>\"003020600900305001001806400008102900700000008...</td>\n",
       "      <td>0.00232</td>\n",
       "      <td>1</td>\n",
       "      <td>False</td>\n",
       "      <td>v2.11</td>\n",
       "    </tr>\n",
       "    <tr>\n",
       "      <th>1</th>\n",
       "      <td>2022-07-30 00:33:22.217619</td>\n",
       "      <td>\"003020600900305001001806400008102900700000008...</td>\n",
       "      <td>0.00216</td>\n",
       "      <td>1</td>\n",
       "      <td>True</td>\n",
       "      <td>v2.11</td>\n",
       "    </tr>\n",
       "    <tr>\n",
       "      <th>2</th>\n",
       "      <td>2022-07-30 00:33:22.219949</td>\n",
       "      <td>\"005306078200407005000009106008002034040030010...</td>\n",
       "      <td>0.00167</td>\n",
       "      <td>1</td>\n",
       "      <td>False</td>\n",
       "      <td>v2.11</td>\n",
       "    </tr>\n",
       "    <tr>\n",
       "      <th>3</th>\n",
       "      <td>2022-07-30 00:33:22.222150</td>\n",
       "      <td>\"005306078200407005000009106008002034040030010...</td>\n",
       "      <td>0.00155</td>\n",
       "      <td>1</td>\n",
       "      <td>True</td>\n",
       "      <td>v2.11</td>\n",
       "    </tr>\n",
       "    <tr>\n",
       "      <th>4</th>\n",
       "      <td>2022-07-30 00:33:22.233287</td>\n",
       "      <td>\"069800500000000103400000020000170000080006000...</td>\n",
       "      <td>0.01052</td>\n",
       "      <td>7</td>\n",
       "      <td>False</td>\n",
       "      <td>v2.11</td>\n",
       "    </tr>\n",
       "  </tbody>\n",
       "</table>\n",
       "</div>"
      ],
      "text/plain": [
       "                         date  \\\n",
       "0  2022-07-30 00:33:22.214405   \n",
       "1  2022-07-30 00:33:22.217619   \n",
       "2  2022-07-30 00:33:22.219949   \n",
       "3  2022-07-30 00:33:22.222150   \n",
       "4  2022-07-30 00:33:22.233287   \n",
       "\n",
       "                                              sudoku     time  difficulty  \\\n",
       "0  \"003020600900305001001806400008102900700000008...  0.00232           1   \n",
       "1  \"003020600900305001001806400008102900700000008...  0.00216           1   \n",
       "2  \"005306078200407005000009106008002034040030010...  0.00167           1   \n",
       "3  \"005306078200407005000009106008002034040030010...  0.00155           1   \n",
       "4  \"069800500000000103400000020000170000080006000...  0.01052           7   \n",
       "\n",
       "    alg2 version  \n",
       "0  False   v2.11  \n",
       "1   True   v2.11  \n",
       "2  False   v2.11  \n",
       "3   True   v2.11  \n",
       "4  False   v2.11  "
      ]
     },
     "execution_count": 53,
     "metadata": {},
     "output_type": "execute_result"
    }
   ],
   "source": [
    "import pandas as pd\n",
    "import matplotlib\n",
    "import seaborn as sns\n",
    "import numpy as np\n",
    "\n",
    "df = pd.read_csv('sudoku_tst_scores.csv')\n",
    "df.head()"
   ]
  },
  {
   "cell_type": "code",
   "execution_count": 54,
   "metadata": {},
   "outputs": [
    {
     "data": {
      "text/html": [
       "<div>\n",
       "<style scoped>\n",
       "    .dataframe tbody tr th:only-of-type {\n",
       "        vertical-align: middle;\n",
       "    }\n",
       "\n",
       "    .dataframe tbody tr th {\n",
       "        vertical-align: top;\n",
       "    }\n",
       "\n",
       "    .dataframe thead th {\n",
       "        text-align: right;\n",
       "    }\n",
       "</style>\n",
       "<table border=\"1\" class=\"dataframe\">\n",
       "  <thead>\n",
       "    <tr style=\"text-align: right;\">\n",
       "      <th></th>\n",
       "      <th>date</th>\n",
       "      <th>sudoku</th>\n",
       "      <th>time</th>\n",
       "      <th>difficulty</th>\n",
       "      <th>alg2</th>\n",
       "      <th>version</th>\n",
       "    </tr>\n",
       "  </thead>\n",
       "  <tbody>\n",
       "    <tr>\n",
       "      <th>888</th>\n",
       "      <td>2023-03-03 21:10:42.318771</td>\n",
       "      <td>005300</td>\n",
       "      <td>374.32</td>\n",
       "      <td>41</td>\n",
       "      <td>True</td>\n",
       "      <td>v6</td>\n",
       "    </tr>\n",
       "    <tr>\n",
       "      <th>894</th>\n",
       "      <td>2023-03-03 21:10:46.126946</td>\n",
       "      <td>800000</td>\n",
       "      <td>2754.63</td>\n",
       "      <td>273</td>\n",
       "      <td>True</td>\n",
       "      <td>v6</td>\n",
       "    </tr>\n",
       "    <tr>\n",
       "      <th>895</th>\n",
       "      <td>2023-03-03 21:10:46.626138</td>\n",
       "      <td>005300</td>\n",
       "      <td>497.82</td>\n",
       "      <td>47</td>\n",
       "      <td>True</td>\n",
       "      <td>v6</td>\n",
       "    </tr>\n",
       "    <tr>\n",
       "      <th>1035</th>\n",
       "      <td>2023-03-03 22:06:06.921165</td>\n",
       "      <td>800000</td>\n",
       "      <td>2723.36</td>\n",
       "      <td>312</td>\n",
       "      <td>True</td>\n",
       "      <td>v6.2</td>\n",
       "    </tr>\n",
       "    <tr>\n",
       "      <th>1038</th>\n",
       "      <td>2023-03-03 22:06:07.823565</td>\n",
       "      <td>800000</td>\n",
       "      <td>1078.88</td>\n",
       "      <td>91</td>\n",
       "      <td>True</td>\n",
       "      <td>v6.2</td>\n",
       "    </tr>\n",
       "    <tr>\n",
       "      <th>1039</th>\n",
       "      <td>2023-03-03 22:06:07.962801</td>\n",
       "      <td>005300</td>\n",
       "      <td>135.61</td>\n",
       "      <td>17</td>\n",
       "      <td>True</td>\n",
       "      <td>v6.2</td>\n",
       "    </tr>\n",
       "    <tr>\n",
       "      <th>1045</th>\n",
       "      <td>2023-03-03 22:06:10.348848</td>\n",
       "      <td>800000</td>\n",
       "      <td>1096.28</td>\n",
       "      <td>160</td>\n",
       "      <td>True</td>\n",
       "      <td>v6.2</td>\n",
       "    </tr>\n",
       "    <tr>\n",
       "      <th>1046</th>\n",
       "      <td>2023-03-03 22:06:10.655964</td>\n",
       "      <td>005300</td>\n",
       "      <td>306.30</td>\n",
       "      <td>41</td>\n",
       "      <td>True</td>\n",
       "      <td>v6.2</td>\n",
       "    </tr>\n",
       "    <tr>\n",
       "      <th>1052</th>\n",
       "      <td>2023-03-03 22:06:14.043603</td>\n",
       "      <td>800000</td>\n",
       "      <td>2179.52</td>\n",
       "      <td>327</td>\n",
       "      <td>True</td>\n",
       "      <td>v6.2</td>\n",
       "    </tr>\n",
       "    <tr>\n",
       "      <th>1053</th>\n",
       "      <td>2023-03-03 22:06:14.377935</td>\n",
       "      <td>005300</td>\n",
       "      <td>333.08</td>\n",
       "      <td>45</td>\n",
       "      <td>True</td>\n",
       "      <td>v6.2</td>\n",
       "    </tr>\n",
       "    <tr>\n",
       "      <th>1059</th>\n",
       "      <td>2023-03-03 22:06:17.715710</td>\n",
       "      <td>800000</td>\n",
       "      <td>1121.30</td>\n",
       "      <td>97</td>\n",
       "      <td>True</td>\n",
       "      <td>v6.2</td>\n",
       "    </tr>\n",
       "    <tr>\n",
       "      <th>1060</th>\n",
       "      <td>2023-03-03 22:06:17.956120</td>\n",
       "      <td>005300</td>\n",
       "      <td>239.52</td>\n",
       "      <td>32</td>\n",
       "      <td>True</td>\n",
       "      <td>v6.2</td>\n",
       "    </tr>\n",
       "    <tr>\n",
       "      <th>1066</th>\n",
       "      <td>2023-03-03 23:57:21.240164</td>\n",
       "      <td>800000</td>\n",
       "      <td>663.96</td>\n",
       "      <td>95</td>\n",
       "      <td>True</td>\n",
       "      <td>v6.2</td>\n",
       "    </tr>\n",
       "    <tr>\n",
       "      <th>1067</th>\n",
       "      <td>2023-03-03 23:57:21.535745</td>\n",
       "      <td>005300</td>\n",
       "      <td>294.17</td>\n",
       "      <td>41</td>\n",
       "      <td>True</td>\n",
       "      <td>v6.2</td>\n",
       "    </tr>\n",
       "    <tr>\n",
       "      <th>1073</th>\n",
       "      <td>2023-03-03 23:57:24.345280</td>\n",
       "      <td>800000</td>\n",
       "      <td>717.67</td>\n",
       "      <td>91</td>\n",
       "      <td>True</td>\n",
       "      <td>v6.2</td>\n",
       "    </tr>\n",
       "    <tr>\n",
       "      <th>1074</th>\n",
       "      <td>2023-03-03 23:57:24.454649</td>\n",
       "      <td>005300</td>\n",
       "      <td>108.39</td>\n",
       "      <td>17</td>\n",
       "      <td>True</td>\n",
       "      <td>v6.2</td>\n",
       "    </tr>\n",
       "    <tr>\n",
       "      <th>1080</th>\n",
       "      <td>2023-03-04 00:04:10.763476</td>\n",
       "      <td>800000</td>\n",
       "      <td>1948.86</td>\n",
       "      <td>265</td>\n",
       "      <td>True</td>\n",
       "      <td>v6.2</td>\n",
       "    </tr>\n",
       "    <tr>\n",
       "      <th>1081</th>\n",
       "      <td>2023-03-04 00:04:10.962638</td>\n",
       "      <td>005300</td>\n",
       "      <td>198.33</td>\n",
       "      <td>20</td>\n",
       "      <td>True</td>\n",
       "      <td>v6.2</td>\n",
       "    </tr>\n",
       "    <tr>\n",
       "      <th>1090</th>\n",
       "      <td>2023-03-04 00:30:35.770720</td>\n",
       "      <td>800000</td>\n",
       "      <td>1722.23</td>\n",
       "      <td>261</td>\n",
       "      <td>True</td>\n",
       "      <td>v6.3</td>\n",
       "    </tr>\n",
       "    <tr>\n",
       "      <th>1091</th>\n",
       "      <td>2023-03-04 00:30:37.065107</td>\n",
       "      <td>005300</td>\n",
       "      <td>242.63</td>\n",
       "      <td>43</td>\n",
       "      <td>True</td>\n",
       "      <td>v6.3</td>\n",
       "    </tr>\n",
       "  </tbody>\n",
       "</table>\n",
       "</div>"
      ],
      "text/plain": [
       "                           date  sudoku     time  difficulty  alg2 version\n",
       "888  2023-03-03 21:10:42.318771  005300   374.32          41  True      v6\n",
       "894  2023-03-03 21:10:46.126946  800000  2754.63         273  True      v6\n",
       "895  2023-03-03 21:10:46.626138  005300   497.82          47  True      v6\n",
       "1035 2023-03-03 22:06:06.921165  800000  2723.36         312  True    v6.2\n",
       "1038 2023-03-03 22:06:07.823565  800000  1078.88          91  True    v6.2\n",
       "1039 2023-03-03 22:06:07.962801  005300   135.61          17  True    v6.2\n",
       "1045 2023-03-03 22:06:10.348848  800000  1096.28         160  True    v6.2\n",
       "1046 2023-03-03 22:06:10.655964  005300   306.30          41  True    v6.2\n",
       "1052 2023-03-03 22:06:14.043603  800000  2179.52         327  True    v6.2\n",
       "1053 2023-03-03 22:06:14.377935  005300   333.08          45  True    v6.2\n",
       "1059 2023-03-03 22:06:17.715710  800000  1121.30          97  True    v6.2\n",
       "1060 2023-03-03 22:06:17.956120  005300   239.52          32  True    v6.2\n",
       "1066 2023-03-03 23:57:21.240164  800000   663.96          95  True    v6.2\n",
       "1067 2023-03-03 23:57:21.535745  005300   294.17          41  True    v6.2\n",
       "1073 2023-03-03 23:57:24.345280  800000   717.67          91  True    v6.2\n",
       "1074 2023-03-03 23:57:24.454649  005300   108.39          17  True    v6.2\n",
       "1080 2023-03-04 00:04:10.763476  800000  1948.86         265  True    v6.2\n",
       "1081 2023-03-04 00:04:10.962638  005300   198.33          20  True    v6.2\n",
       "1090 2023-03-04 00:30:35.770720  800000  1722.23         261  True    v6.3\n",
       "1091 2023-03-04 00:30:37.065107  005300   242.63          43  True    v6.3"
      ]
     },
     "execution_count": 54,
     "metadata": {},
     "output_type": "execute_result"
    }
   ],
   "source": [
    "df_tw = (df\n",
    "         .assign(sudoku=lambda df_: df_.sudoku.apply(lambda x: x[1:7]),\n",
    "                 time=df.time * 1000,\n",
    "                 date=pd.to_datetime(df.date)\n",
    "            )\n",
    "        )\n",
    "df_tw[df_tw.difficulty > 10].tail(20)"
   ]
  },
  {
   "cell_type": "code",
   "execution_count": 55,
   "metadata": {},
   "outputs": [
    {
     "data": {
      "text/plain": [
       "(63, 5)"
      ]
     },
     "execution_count": 55,
     "metadata": {},
     "output_type": "execute_result"
    }
   ],
   "source": [
    "df_pl = (df_tw\n",
    "         .groupby(by=['sudoku', 'version'])\n",
    "         .median()\n",
    "         .reset_index()\n",
    "        )\n",
    "df_pl.shape\n"
   ]
  },
  {
   "cell_type": "code",
   "execution_count": 56,
   "metadata": {},
   "outputs": [
    {
     "data": {
      "text/plain": [
       "<AxesSubplot:xlabel='sudoku', ylabel='difficulty'>"
      ]
     },
     "execution_count": 56,
     "metadata": {},
     "output_type": "execute_result"
    },
    {
     "data": {
      "image/png": "[encoded data removed]",
      "text/plain": [
       "<Figure size 432x288 with 1 Axes>"
      ]
     },
     "metadata": {
      "needs_background": "light"
     },
     "output_type": "display_data"
    }
   ],
   "source": [
    "sns.barplot(data=df_pl, x='sudoku', y='difficulty', hue='version', log=True)"
   ]
  },
  {
   "cell_type": "code",
   "execution_count": 57,
   "metadata": {},
   "outputs": [
    {
     "data": {
      "text/plain": [
       "v3.1     282\n",
       "v2.11    181\n",
       "v5       159\n",
       "v3.0     158\n",
       "v6.1     126\n",
       "v4       103\n",
       "v6.2      56\n",
       "v6        18\n",
       "v6.3      10\n",
       "Name: version, dtype: int64"
      ]
     },
     "execution_count": 57,
     "metadata": {},
     "output_type": "execute_result"
    }
   ],
   "source": [
    "\n",
    "df_pl2 = df_tw['version'].value_counts()\n",
    "df_pl2"
   ]
  },
  {
   "cell_type": "code",
   "execution_count": 58,
   "metadata": {
    "scrolled": false
   },
   "outputs": [
    {
     "data": {
      "image/png": "[encoded data removed]",
      "text/plain": [
       "<Figure size 432x288 with 1 Axes>"
      ]
     },
     "metadata": {
      "needs_background": "light"
     },
     "output_type": "display_data"
    }
   ],
   "source": [
    "#g = sns.stripplot(data=df_tw[df_tw['Alg2?']==False], x='sudoku', y='Difficulty', hue='Alg2?')\n",
    "df_tw = df_tw.rename(columns={'Alg2?': 'alg2'})\n",
    "g = sns.stripplot(data=df_tw.query('alg2==True'), x='sudoku', y='difficulty', hue='version')"
   ]
  },
  {
   "cell_type": "code",
   "execution_count": 59,
   "metadata": {},
   "outputs": [
    {
     "data": {
      "text/plain": [
       "<AxesSubplot:xlabel='sudoku', ylabel='time'>"
      ]
     },
     "execution_count": 59,
     "metadata": {},
     "output_type": "execute_result"
    },
    {
     "data": {
      "image/png": "[encoded data removed]",
      "text/plain": [
       "<Figure size 432x288 with 1 Axes>"
      ]
     },
     "metadata": {
      "needs_background": "light"
     },
     "output_type": "display_data"
    }
   ],
   "source": [
    "sns.barplot(data=df_pl, x='sudoku', y='time', hue='version', log=True)"
   ]
  }
 ],
 "metadata": {
  "kernelspec": {
   "display_name": "Python 3 (ipykernel)",
   "language": "python",
   "name": "python3"
  },
  "language_info": {
   "codemirror_mode": {
    "name": "ipython",
    "version": 3
   },
   "file_extension": ".py",
   "mimetype": "text/x-python",
   "name": "python",
   "nbconvert_exporter": "python",
   "pygments_lexer": "ipython3",
   "version": "3.10.6"
  },
  "vscode": {
   "interpreter": {
    "hash": "916dbcbb3f70747c44a77c7bcd40155683ae19c65e1c03b4aa3499c5328201f1"
   }
  }
 },
 "nbformat": 4,
 "nbformat_minor": 2
}
